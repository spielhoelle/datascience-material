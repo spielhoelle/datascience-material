{
  "cells": [
    {
      "cell_type": "markdown",
      "metadata": {
        "id": "86hT2bv9lTJ7"
      },
      "source": [
        "# High-performance image generation using Stable Diffusion in KerasCV\n",
        "\n",
        "**Authors:** [fchollet](https://twitter.com/fchollet), [lukewood](https://twitter.com/luke_wood_ml), [divamgupta](https://github.com/divamgupta)<br>\n",
        "**Date created:** 2022/09/25<br>\n",
        "**Last modified:** 2022/09/25<br>\n",
        "**Description:** Generate new images using KerasCV's StableDiffusion model."
      ]
    },
    {
      "cell_type": "markdown",
      "metadata": {
        "id": "dwnsheZJlTJ9"
      },
      "source": [
        "## Overview\n",
        "\n",
        "In this guide, we will show how to generate novel images based on a text prompt using\n",
        "the KerasCV implementation of [stability.ai](https://stability.ai/)'s text-to-image model,\n",
        "[Stable Diffusion](https://github.com/CompVis/stable-diffusion).\n",
        "\n",
        "Stable Diffusion is a powerful, open-source text-to-image generation model.  While there\n",
        "exist multiple open-source implementations that allow you to easily create images from\n",
        "textual prompts, KerasCV's offers a few distinct advantages.\n",
        "These include [XLA compilation](https://www.tensorflow.org/xla) and\n",
        "[mixed precision](https://www.tensorflow.org/guide/mixed_precision) support,\n",
        "which together achieve state-of-the-art generation speed.\n",
        "\n",
        "In this guide, we will explore KerasCV's Stable Diffusion implementation, show how to use\n",
        "these powerful performance boosts, and explore the performance benefits\n",
        "that they offer.\n",
        "\n",
        "To get started, let's install a few dependencies and sort out some imports:"
      ]
    },
    {
      "cell_type": "code",
      "execution_count": null,
      "metadata": {
        "colab": {
          "base_uri": "https://localhost:8080/"
        },
        "id": "BEX2uxGolTJ-",
        "outputId": "ba9f311c-3afa-41ed-b009-f34d124fa9a6"
      },
      "outputs": [],
      "source": [
        "!pip install tensorflow tensorflow_datasets keras_cv matplotlib --upgrade --quiet\n",
        "!apt install --allow-change-held-packages libcudnn8=8.1.0.77-1+cuda11.2"
      ]
    },
    {
      "cell_type": "code",
      "execution_count": null,
      "metadata": {
        "id": "XF2Pq332lTJ_"
      },
      "outputs": [],
      "source": [
        "import time\n",
        "import keras_cv\n",
        "from tensorflow import keras\n",
        "import matplotlib.pyplot as plt"
      ]
    },
    {
      "cell_type": "markdown",
      "metadata": {
        "id": "rDV5B1ZqlTJ_"
      },
      "source": [
        "## Introduction\n",
        "\n",
        "Unlike most tutorials, where we first explain a topic then show how to implement it,\n",
        "with text-to-image generation it is easier to show instead of tell.\n",
        "\n",
        "Check out the power of `keras_cv.models.StableDiffusion()`.\n",
        "\n",
        "First, we construct a model:"
      ]
    },
    {
      "cell_type": "code",
      "execution_count": null,
      "metadata": {
        "colab": {
          "base_uri": "https://localhost:8080/"
        },
        "id": "Z7DQDD9mlTKA",
        "outputId": "c1073f17-0349-4084-c174-fc756c50e288"
      },
      "outputs": [],
      "source": [
        "model = keras_cv.models.StableDiffusion(img_width=512, img_height=512)"
      ]
    },
    {
      "cell_type": "markdown",
      "metadata": {
        "id": "wfJG86t9lTKA"
      },
      "source": [
        "Next, we give it a prompt:"
      ]
    },
    {
      "cell_type": "code",
      "execution_count": null,
      "metadata": {
        "colab": {
          "base_uri": "https://localhost:8080/",
          "height": 377
        },
        "id": "TLSLSvl2lTKB",
        "outputId": "f467d517-00a9-476e-8efd-4a251f4fe6a3"
      },
      "outputs": [],
      "source": [
        "images = model.text_to_image(\"rainy postapocalyptic city center inhabitated by happy goblins\", batch_size=1)\n",
        "\n",
        "\n",
        "def plot_images(images):\n",
        "    plt.figure(figsize=(20, 20))\n",
        "    for i in range(len(images)):\n",
        "        ax = plt.subplot(1, len(images), i + 1)\n",
        "        plt.imshow(images[i])\n",
        "        plt.axis(\"off\")\n",
        "\n",
        "\n",
        "plot_images(images)"
      ]
    },
    {
      "cell_type": "markdown",
      "metadata": {
        "id": "JeMlz77IlTKC"
      },
      "source": [
        "Pretty incredible!\n",
        "\n",
        "But that's not all this model can do.  Let's try a more complex prompt:"
      ]
    },
    {
      "cell_type": "markdown",
      "metadata": {
        "id": "iZb5g5MqlTKD"
      },
      "source": [
        "The possibilities are literally endless (or at least extend to the boundaries of\n",
        "Stable Diffusion's latent manifold)."
      ]
    },
    {
      "cell_type": "markdown",
      "metadata": {
        "id": "uH2FZNGIlTKE"
      },
      "source": [
        "## Wait, how does this even work?\n",
        "\n",
        "Unlike what you might expect at this point, StableDiffusion doesn't actually run on magic.\n",
        "It's a kind of \"latent diffusion model\". Let's dig into what that means.\n",
        "\n",
        "You may be familiar with the idea of _super-resolution_:\n",
        "it's possible to train a deep learning model to _denoise_ an input image -- and thereby turn it into a higher-resolution\n",
        "version. The deep learning model doesn't do this by magically recovering the information that's missing from the noisy, low-resolution\n",
        "input -- rather, the model uses its training data distribution to hallucinate the visual details that would be most likely\n",
        "given the input. To learn more about super-resolution, you can check out the following Keras.io tutorials:\n",
        "\n",
        "- [Image Super-Resolution using an Efficient Sub-Pixel CNN](https://keras.io/examples/vision/super_resolution_sub_pixel/)\n",
        "- [Enhanced Deep Residual Networks for single-image super-resolution](https://keras.io/examples/vision/edsr/)\n",
        "\n",
        "![Super-resolution](https://i.imgur.com/M0XdqOo.png)\n",
        "\n",
        "When you push this idea to the limit, you may start asking -- what if we just run such a model on pure noise?\n",
        "The model would then \"denoise the noise\" and start hallucinating a brand new image. By repeating the process multiple\n",
        "times, you can get turn a small patch of noise into an increasingly clear and high-resolution artificial picture.\n",
        "\n",
        "This is the key idea of latent diffusion, proposed in\n",
        "[High-Resolution Image Synthesis with Latent Diffusion Models](https://arxiv.org/abs/2112.10752) in 2020.\n",
        "To understand diffusion in depth, you can check the Keras.io tutorial\n",
        "[Denoising Diffusion Implicit Models](https://keras.io/examples/generative/ddim/).\n",
        "\n",
        "![Denoising diffusion](https://i.imgur.com/FSCKtZq.gif)\n",
        "\n",
        "Now, to go from latent diffusion to a text-to-image system,\n",
        "you still need to add one key feature: the ability to control the generated visual contents via prompt keywords.\n",
        "This is done via \"conditioning\", a classic deep learning technique which consists of concatenating to the\n",
        "noise patch a vector that represents a bit of text, then training the model on a dataset of {image: caption} pairs.\n",
        "\n",
        "This gives rise to the Stable Diffusion architecture. Stable Diffusion consists of three parts:\n",
        "\n",
        "- A text encoder, which turns your prompt into a latent vector.\n",
        "- A diffusion model, which repeatedly \"denoises\" a 64x64 latent image patch.\n",
        "- A decoder, which turns the final 64x64 latent patch into a higher-resolution 512x512 image.\n",
        "\n",
        "First, your text prompt gets projected into a latent vector space by the text encoder,\n",
        "which is simply a pretrained, frozen language model. Then that prompt vector is concatenate\n",
        "to a randomly generated noise patch, which is repeatedly \"denoised\" by the decoder over a series\n",
        "of \"steps\" (the more steps you run the clearer and nicer your image will be -- the default value is 50 steps).\n",
        "\n",
        "Finally, the 64x64 latent image is sent through the decoder to properly render it in high resolution.\n",
        "\n",
        "![The Stable Diffusion architecture](https://i.imgur.com/2uC8rYJ.png)\n",
        "\n",
        "All-in-all, it's a pretty simple system -- the Keras implementation\n",
        "fits in four files that represent less than 500 lines of code in total:\n",
        "\n",
        "- [text_encoder.py](https://github.com/keras-team/keras-cv/blob/master/keras_cv/models/generative/stable_diffusion/text_encoder.py): 87 LOC\n",
        "- [diffusion_model.py](https://github.com/keras-team/keras-cv/blob/master/keras_cv/models/generative/stable_diffusion/diffusion_model.py): 181 LOC\n",
        "- [decoder.py](https://github.com/keras-team/keras-cv/blob/master/keras_cv/models/generative/stable_diffusion/decoder.py): 86 LOC\n",
        "- [stable_diffusion.py](https://github.com/keras-team/keras-cv/blob/master/keras_cv/models/generative/stable_diffusion/stable_diffusion.py): 106 LOC\n",
        "\n",
        "But this relatively simple system starts looking like magic once you train on billions of pictures and their captions.\n",
        "As Feynman said about the universe: _\"It's not complicated, it's just a lot of it!\"_"
      ]
    },
    {
      "cell_type": "markdown",
      "metadata": {
        "id": "W5jSHHrDlTKE"
      },
      "source": [
        "## Perks of KerasCV\n",
        "\n",
        "With several implementations of Stable Diffusion publicly available why shoud you use\n",
        "`keras_cv.models.StableDiffusion`?\n",
        "\n",
        "Aside from the easy-to-use API, KerasCV's Stable Diffusion model comes\n",
        "with some powerful advantages, including:\n",
        "\n",
        "- Graph mode execution\n",
        "- XLA compilation through `jit_compile=True`\n",
        "- Support for mixed precision computation\n",
        "\n",
        "When these are combined, the KerasCV Stable Diffusion model runs orders of magnitude\n",
        "faster than naive implementations.  This section shows how to enable all of these\n",
        "features, and the resulting performance gain yielded from using them.\n",
        "\n",
        "For the purposes of comparison, we ran benchmarks comparing the runtime of the\n",
        "[HuggingFace diffusers](https://github.com/huggingface/diffusers) implementation of\n",
        "Stable Diffusion against the KerasCV implementation.\n",
        "Both implementations were tasked to generate 3 images with a step count of 50 for each\n",
        "image.  In this benchmark, we used a Tesla T4 GPU.\n",
        "\n",
        "[All of our benchmarks are open source on GitHub, and may be re-run on Colab to\n",
        "reproduce the results.](https://github.com/LukeWood/stable-diffusion-performance-benchmarks)\n",
        "The results from the benchmark are displayed in the table below:\n",
        "\n",
        "\n",
        "| GPU        | Model                  | Runtime   |\n",
        "|------------|------------------------|-----------|\n",
        "| Tesla T4   | KerasCV (Warm Start)   | **28.97s**|\n",
        "| Tesla T4   | diffusers (Warm Start) | 41.33s    |\n",
        "| Tesla V100 | KerasCV (Warm Start)   | **12.45** |\n",
        "| Tesla V100 | diffusers (Warm Start) | 12.72     |\n",
        "\n",
        "\n",
        "30% improvement in execution time on the Tesla T4!.  While the improvement is much lower\n",
        "on the V100, we generally expect the results of the benchmark to consistently favor the KerasCV\n",
        "across all NVIDIA GPUs.\n",
        "\n",
        "For the sake of completeness, both cold-start and warm-start generation times are\n",
        "reported. Cold-start execution time includes the one-time cost of model creation and compilation,\n",
        "and is therefore neglible in a production environment (where you would reuse the same model instance\n",
        "many times). Regardless, here are the cold-start numbers:\n",
        "\n",
        "\n",
        "| GPU        | Model                  | Runtime |\n",
        "|------------|------------------------|---------|\n",
        "| Tesla T4   | KerasCV (Cold Start)   | 83.47s  |\n",
        "| Tesla T4   | diffusers (Cold Start) | 46.27s  |\n",
        "| Tesla V100 | KerasCV (Cold Start)   | 76.43   |\n",
        "| Tesla V100 | diffusers (Cold Start) | 13.90   |\n",
        "\n",
        "\n",
        "While the runtime results from running this guide may vary, in our testing the KerasCV\n",
        "implementation of Stable Diffusion is significantly faster than its PyTorch counterpart.\n",
        "This may be largely attributed to XLA compilation.\n",
        "\n",
        "**Note: The performance benefits of each optimization can vary\n",
        "significantly between hardware setups.**\n",
        "\n",
        "To get started, let's first benchmark our unoptimized model:"
      ]
    },
    {
      "cell_type": "code",
      "execution_count": null,
      "metadata": {
        "id": "wZou8KCvlTKF"
      },
      "outputs": [],
      "source": [
        "benchmark_result = []\n",
        "start = time.time()\n",
        "images = model.text_to_image(\n",
        "    \"A cute otter in a rainbow whirlpool holding shells, watercolor\",\n",
        "    batch_size=3,\n",
        ")\n",
        "end = time.time()\n",
        "benchmark_result.append([\"Standard\", end - start])\n",
        "plot_images(images)\n",
        "\n",
        "print(f\"Standard model: {(end - start):.2f} seconds\")\n",
        "keras.backend.clear_session()  # Clear session to preserve memory."
      ]
    },
    {
      "cell_type": "markdown",
      "metadata": {
        "id": "qdjv9b6alTKF"
      },
      "source": [
        "### Mixed precision\n",
        "\n",
        "\"Mixed precision\" consists of performing computation using `float16`\n",
        "precision, while storing weights in the `float32` format.\n",
        "This is done to take advantage of the fact that `float16` operations are backed by\n",
        "significantly faster kernels than their `float32` counterparts on modern NVIDIA GPUs.\n",
        "\n",
        "Enabling mixed precision computation in Keras\n",
        "(and therefore for `keras_cv.models.StableDiffusion`) is as simple as calling:"
      ]
    },
    {
      "cell_type": "code",
      "execution_count": null,
      "metadata": {
        "id": "h0IyGviclTKG"
      },
      "outputs": [],
      "source": [
        "keras.mixed_precision.set_global_policy(\"mixed_float16\")"
      ]
    },
    {
      "cell_type": "markdown",
      "metadata": {
        "id": "uzmqxI_YlTKG"
      },
      "source": [
        "That's all.  Out of the box - it just works."
      ]
    },
    {
      "cell_type": "code",
      "execution_count": null,
      "metadata": {
        "id": "A1X61DzvlTKG"
      },
      "outputs": [],
      "source": [
        "model = keras_cv.models.StableDiffusion()\n",
        "\n",
        "print(\"Compute dtype:\", model.diffusion_model.compute_dtype)\n",
        "print(\n",
        "    \"Variable dtype:\",\n",
        "    model.diffusion_model.variable_dtype,\n",
        ")"
      ]
    },
    {
      "cell_type": "markdown",
      "metadata": {
        "id": "mqMP-QgplTKH"
      },
      "source": [
        "As you can see, the model constructed above now uses mixed precision computation;\n",
        "leveraging the speed of `float16` operations for computation, while storing variables\n",
        "in `float32` precision."
      ]
    },
    {
      "cell_type": "code",
      "execution_count": null,
      "metadata": {
        "id": "Y_4GGd9GlTKH"
      },
      "outputs": [],
      "source": [
        "# Warm up model to run graph tracing before benchmarking.\n",
        "model.text_to_image(\"warming up the model\", batch_size=3)\n",
        "\n",
        "start = time.time()\n",
        "images = model.text_to_image(\n",
        "    \"a cute magical flying dog, fantasy art, \"\n",
        "    \"golden color, high quality, highly detailed, elegant, sharp focus, \"\n",
        "    \"concept art, character concepts, digital painting, mystery, adventure\",\n",
        "    batch_size=3,\n",
        ")\n",
        "end = time.time()\n",
        "benchmark_result.append([\"Mixed Precision\", end - start])\n",
        "plot_images(images)\n",
        "\n",
        "print(f\"Mixed precision model: {(end - start):.2f} seconds\")\n",
        "keras.backend.clear_session()"
      ]
    },
    {
      "cell_type": "markdown",
      "metadata": {
        "id": "4XCylakglTKH"
      },
      "source": [
        "### XLA Compilation\n",
        "\n",
        "TensorFlow comes with the\n",
        "[XLA: Accelerated Linear Algebra](https://www.tensorflow.org/xla) compiler built-in.\n",
        "`keras_cv.models.StableDiffusion` supports a `jit_compile` argument out of the box.\n",
        "Setting this argument to `True` enables XLA compilation, resulting in a significant\n",
        "speed-up.\n",
        "\n",
        "Let's use this below:"
      ]
    },
    {
      "cell_type": "code",
      "execution_count": null,
      "metadata": {
        "id": "GP6MmdZ5lTKI"
      },
      "outputs": [],
      "source": [
        "# Set back to the default for benchmarking purposes.\n",
        "keras.mixed_precision.set_global_policy(\"float32\")\n",
        "\n",
        "model = keras_cv.models.StableDiffusion(jit_compile=True)\n",
        "# Before we benchmark the model, we run inference once to make sure the TensorFlow\n",
        "# graph has already been traced.\n",
        "images = model.text_to_image(\"An avocado armchair\", batch_size=3)\n",
        "plot_images(images)"
      ]
    },
    {
      "cell_type": "markdown",
      "metadata": {
        "id": "8NgzD3wblTKI"
      },
      "source": [
        "Let's benchmark our XLA model:"
      ]
    },
    {
      "cell_type": "code",
      "execution_count": null,
      "metadata": {
        "id": "xPf6pysDlTKI"
      },
      "outputs": [],
      "source": [
        "start = time.time()\n",
        "images = model.text_to_image(\n",
        "    \"A cute otter in a rainbow whirlpool holding shells, watercolor\",\n",
        "    batch_size=3,\n",
        ")\n",
        "end = time.time()\n",
        "benchmark_result.append([\"XLA\", end - start])\n",
        "plot_images(images)\n",
        "\n",
        "print(f\"With XLA: {(end - start):.2f} seconds\")\n",
        "keras.backend.clear_session()"
      ]
    },
    {
      "cell_type": "markdown",
      "metadata": {
        "id": "hP02m10NlTKI"
      },
      "source": [
        "On an A100 GPU, we get about a 2x speedup.  Fantastic!"
      ]
    },
    {
      "cell_type": "markdown",
      "metadata": {
        "id": "s8eQ_rc7lTKI"
      },
      "source": [
        "## Putting it all together\n",
        "\n",
        "So, how do you assemble the world's most performant stable diffusion inference\n",
        "pipeline (as of September 2022).\n",
        "\n",
        "With these two lines of code:"
      ]
    },
    {
      "cell_type": "code",
      "execution_count": null,
      "metadata": {
        "id": "RWh-wnBxlTKJ"
      },
      "outputs": [],
      "source": [
        "keras.mixed_precision.set_global_policy(\"mixed_float16\")\n",
        "model = keras_cv.models.StableDiffusion(jit_compile=True)"
      ]
    },
    {
      "cell_type": "markdown",
      "metadata": {
        "id": "V8wsXhYNlTKJ"
      },
      "source": [
        "And to use it..."
      ]
    },
    {
      "cell_type": "code",
      "execution_count": null,
      "metadata": {
        "id": "9iEzJ6Q5lTKJ"
      },
      "outputs": [],
      "source": [
        "# Let's make sure to warm up the model\n",
        "images = model.text_to_image(\n",
        "    \"Teddy bears conducting machine learning research\",\n",
        "    batch_size=3,\n",
        ")\n",
        "plot_images(images)"
      ]
    },
    {
      "cell_type": "markdown",
      "metadata": {
        "id": "oTGWLYhDlTKJ"
      },
      "source": [
        "Exactly how fast is it?\n",
        "Let's find out!"
      ]
    },
    {
      "cell_type": "code",
      "execution_count": null,
      "metadata": {
        "id": "YxJ_xkaelTKK"
      },
      "outputs": [],
      "source": [
        "start = time.time()\n",
        "images = model.text_to_image(\n",
        "    \"A mysterious dark stranger visits the great pyramids of egypt, \"\n",
        "    \"high quality, highly detailed, elegant, sharp focus, \"\n",
        "    \"concept art, character concepts, digital painting\",\n",
        "    batch_size=3,\n",
        ")\n",
        "end = time.time()\n",
        "benchmark_result.append([\"XLA + Mixed Precision\", end - start])\n",
        "plot_images(images)\n",
        "\n",
        "print(f\"XLA + mixed precision: {(end - start):.2f} seconds\")"
      ]
    },
    {
      "cell_type": "markdown",
      "metadata": {
        "id": "1yhfmwiUlTKK"
      },
      "source": [
        "Let's check out the results:"
      ]
    },
    {
      "cell_type": "code",
      "execution_count": null,
      "metadata": {
        "id": "N9GsM1PdlTKK"
      },
      "outputs": [],
      "source": [
        "print(\"{:<20} {:<20}\".format(\"Model\", \"Runtime\"))\n",
        "for result in benchmark_result:\n",
        "    name, runtime = result\n",
        "    print(\"{:<20} {:<20}\".format(name, runtime))"
      ]
    },
    {
      "cell_type": "markdown",
      "metadata": {
        "id": "kcc29uj1lTKL"
      },
      "source": [
        "It only took our fully-optimized model four seconds to generate three novel images from\n",
        "a text prompt on an A100 GPU."
      ]
    },
    {
      "cell_type": "markdown",
      "metadata": {
        "id": "yoK5mpCFlTKL"
      },
      "source": [
        "## Conclusions\n",
        "\n",
        "KerasCV offers a state-of-the-art implementation of Stable Diffusion -- and\n",
        "through the use of XLA and mixed precision, it delivers the fastest Stable Diffusion pipeline available as of September 2022.\n",
        "\n",
        "Normally, at the end of a keras.io tutorial we leave you with some future directions to continue in to learn.\n",
        "This time, we leave you with one idea:\n",
        "\n",
        "**Go run your own prompts through the model! It is an absolute blast!**\n",
        "\n",
        "If you have your own NVIDIA GPU, or a M1 MacBookPro, you can also run the model locally on your machine.\n",
        "(Note that when running on a M1 MacBookPro, you should not enable mixed precision, as it is not yet well supported\n",
        "by Apple's Metal runtime.)"
      ]
    }
  ],
  "metadata": {
    "colab": {
      "collapsed_sections": [],
      "name": "generate_images_with_stable_diffusion",
      "provenance": [],
      "toc_visible": true
    },
    "kernelspec": {
      "display_name": "Python 3.10.6 ('stable_diffusion-')",
      "language": "python",
      "name": "python3"
    },
    "language_info": {
      "codemirror_mode": {
        "name": "ipython",
        "version": 3
      },
      "file_extension": ".py",
      "mimetype": "text/x-python",
      "name": "python",
      "nbconvert_exporter": "python",
      "pygments_lexer": "ipython3",
      "version": "3.10.6"
    },
    "vscode": {
      "interpreter": {
        "hash": "dfe061ce111c653bf99473b24548508cf529f5ecd34abe99aee166b09bb622a1"
      }
    }
  },
  "nbformat": 4,
  "nbformat_minor": 0
}
